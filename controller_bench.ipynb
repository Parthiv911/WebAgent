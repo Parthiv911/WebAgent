{
 "cells": [
  {
   "cell_type": "code",
   "execution_count": 1,
   "metadata": {},
   "outputs": [],
   "source": [
    "from utility import run_tesseract_ocr, hocr_to_dataframe, enable_cursor, matplotlibplot, extract_bbox_coods, bbox_coods_to_HTML_coods, excel_to_dict, dict_to_excel\n",
    "from Agent.agent import Agent\n",
    "import time\n",
    "from selenium import webdriver\n",
    "from selenium.webdriver.common.by import By\n",
    "import cv2"
   ]
  },
  {
   "cell_type": "code",
   "execution_count": 2,
   "metadata": {},
   "outputs": [],
   "source": [
    "# Launch the Chrome browser\n",
    "driver = webdriver.Chrome()\n",
    "\n",
    "# Navigate to the website\n",
    "driver.get(\"https://google.com\")\n",
    "time.sleep(3)"
   ]
  },
  {
   "cell_type": "code",
   "execution_count": 3,
   "metadata": {},
   "outputs": [],
   "source": [
    "agent=Agent(driver,inventory=\"Gmail\")"
   ]
  },
  {
   "cell_type": "code",
   "execution_count": 4,
   "metadata": {},
   "outputs": [
    {
     "name": "stdout",
     "output_type": "stream",
     "text": [
      "Chosen next function:  perceive_vision\n",
      "Chosen next function:  move_focus_to_next_object\n",
      "Chosen next function:  move_cursor_to_focussed_object\n",
      "Moved cursor by offset:  44.01127049180328 , 28.815789473684212\n",
      "Chosen next function:  is_inventory_equals_object_text\n",
      "Inventory:  Gmail\n",
      "Objects text:  About\n",
      "Chosen next function:  move_focus_to_next_object\n",
      "Chosen next function:  move_cursor_to_focussed_object\n",
      "Moved cursor by offset:  99.62551229508198 , 28.815789473684212\n",
      "Chosen next function:  is_inventory_equals_object_text\n",
      "Inventory:  Gmail\n",
      "Objects text:  Store\n",
      "Chosen next function:  move_focus_to_next_object\n",
      "Chosen next function:  move_cursor_to_focussed_object\n",
      "Moved cursor by offset:  1281.5281762295083 , 30.0\n",
      "Chosen next function:  is_inventory_equals_object_text\n",
      "Inventory:  Gmail\n",
      "Objects text:  Gmail\n",
      "Chosen next function:  click\n",
      "clicking\n",
      "Chosen next function:  is_change_in_screenshot\n",
      "Chosen next function:  perceive_vision\n",
      "Chosen next function:  move_focus_to_next_object\n",
      "Chosen next function:  move_cursor_to_focussed_object\n",
      "Moved cursor by offset:  39.610143442622956 , 31.18421052631579\n",
      "Chosen next function:  is_inventory_equals_object_text\n",
      "Inventory:  Gmail\n",
      "Objects text:  M\n",
      "Chosen next function:  move_focus_to_next_object\n",
      "Chosen next function:  move_cursor_to_focussed_object\n",
      "Moved cursor by offset:  93.22387295081968 , 41.44736842105263\n",
      "Chosen next function:  is_inventory_equals_object_text\n",
      "Inventory:  Gmail\n",
      "Objects text:  email\n",
      "Chosen next function:  move_focus_to_next_object\n",
      "Chosen next function:  move_cursor_to_focussed_object\n",
      "Moved cursor by offset:  1152.6951844262296 , 30.394736842105264\n",
      "Chosen next function:  is_inventory_equals_object_text\n",
      "Inventory:  Gmail\n",
      "Objects text:  Forwork\n",
      "Chosen next function:  move_focus_to_next_object\n",
      "Chosen next function:  move_cursor_to_focussed_object\n",
      "Moved cursor by offset:  1253.5210040983607 , 31.973684210526315\n",
      "Chosen next function:  is_inventory_equals_object_text\n",
      "Inventory:  Gmail\n",
      "Objects text:  Signin\n",
      "Chosen next function:  move_focus_to_next_object\n",
      "Chosen next function:  move_cursor_to_focussed_object\n",
      "Moved cursor by offset:  826.2115778688525 , 170.5263157894737\n",
      "Chosen next function:  is_inventory_equals_object_text\n",
      "Inventory:  Gmail\n",
      "Objects text:  z\n",
      "Chosen next function:  move_focus_to_next_object\n",
      "Chosen next function:  move_cursor_to_focussed_object\n",
      "Moved cursor by offset:  276.4707991803279 , 237.23684210526315\n",
      "Chosen next function:  is_inventory_equals_object_text\n",
      "Inventory:  Gmail\n",
      "Objects text:  Secure,\n",
      "Chosen next function:  move_focus_to_next_object\n",
      "Chosen next function:  move_cursor_to_focussed_object\n",
      "Moved cursor by offset:  466.51946721311475 , 239.21052631578948\n",
      "Chosen next function:  is_inventory_equals_object_text\n",
      "Inventory:  Gmail\n",
      "Objects text:  smart,\n",
      "Chosen next function:  move_focus_to_next_object\n",
      "Chosen next function:  move_cursor_to_focussed_object\n",
      "Moved cursor by offset:  608.155737704918 , 234.8684210526316\n",
      "Chosen next function:  is_inventory_equals_object_text\n",
      "Inventory:  Gmail\n",
      "Objects text:  and\n",
      "Chosen next function:  move_focus_to_next_object\n",
      "Chosen next function:  move_cursor_to_focussed_object\n",
      "Moved cursor by offset:  240.86168032786887 , 308.6842105263158\n",
      "Chosen next function:  is_inventory_equals_object_text\n",
      "Inventory:  Gmail\n",
      "Objects text:  easy\n"
     ]
    }
   ],
   "source": [
    "for counter in range(40):\n",
    "    agent.do_next_action()\n",
    "    time.sleep(1)"
   ]
  },
  {
   "cell_type": "code",
   "execution_count": 6,
   "metadata": {},
   "outputs": [
    {
     "name": "stdout",
     "output_type": "stream",
     "text": [
      "Chosen next function:  perceive_vision\n"
     ]
    }
   ],
   "source": [
    "agent.do_next_action()"
   ]
  },
  {
   "cell_type": "code",
   "execution_count": 7,
   "metadata": {},
   "outputs": [
    {
     "name": "stdout",
     "output_type": "stream",
     "text": [
      "Chosen next function:  move_focus_to_next_object\n"
     ]
    }
   ],
   "source": [
    "agent.do_next_action()"
   ]
  },
  {
   "cell_type": "code",
   "execution_count": 8,
   "metadata": {},
   "outputs": [
    {
     "name": "stdout",
     "output_type": "stream",
     "text": [
      "Chosen next function:  move_cursor_to_focussed_object\n",
      "Moved cursor by offset:  44.01127049180328 , 28.815789473684212\n"
     ]
    }
   ],
   "source": [
    "agent.do_next_action()"
   ]
  },
  {
   "cell_type": "code",
   "execution_count": 9,
   "metadata": {},
   "outputs": [
    {
     "data": {
      "text/plain": [
       "{(' ', True): [('perceive_vision', 1)],\n",
       " ('perceive_vision', True): [('move_focus_to_next_object', 1)],\n",
       " ('move_focus_to_next_object', True): [('move_focus_to_next_object', -1),\n",
       "  ('move_cursor_to_focussed_object', 1)],\n",
       " ('move_cursor_to_focussed_object', True): [('move_focus_to_next_object', -1),\n",
       "  ('move_cursor_to_focussed_object', -1),\n",
       "  ('is_inventory_equals_object_text', 1)],\n",
       " ('is_inventory_equals_object_text',\n",
       "  False): [('move_focus_to_next_object', 1)]}"
      ]
     },
     "execution_count": 9,
     "metadata": {},
     "output_type": "execute_result"
    }
   ],
   "source": [
    "agent.transition_function"
   ]
  },
  {
   "cell_type": "code",
   "execution_count": 10,
   "metadata": {},
   "outputs": [
    {
     "name": "stdout",
     "output_type": "stream",
     "text": [
      "Chosen next function:  is_inventory_equals_object_text\n",
      "Inventory:  Gmail\n",
      "Objects text:  About\n"
     ]
    }
   ],
   "source": [
    "agent.do_next_action()"
   ]
  },
  {
   "cell_type": "code",
   "execution_count": 11,
   "metadata": {},
   "outputs": [
    {
     "name": "stdout",
     "output_type": "stream",
     "text": [
      "Chosen next function:  move_focus_to_next_object\n"
     ]
    }
   ],
   "source": [
    "agent.do_next_action()"
   ]
  },
  {
   "cell_type": "code",
   "execution_count": 12,
   "metadata": {},
   "outputs": [
    {
     "name": "stdout",
     "output_type": "stream",
     "text": [
      "Chosen next function:  move_cursor_to_focussed_object\n",
      "Moved cursor by offset:  99.62551229508198 , 28.815789473684212\n"
     ]
    }
   ],
   "source": [
    "agent.do_next_action()"
   ]
  },
  {
   "cell_type": "code",
   "execution_count": 13,
   "metadata": {},
   "outputs": [
    {
     "name": "stdout",
     "output_type": "stream",
     "text": [
      "Chosen next function:  is_inventory_equals_object_text\n",
      "Inventory:  Gmail\n",
      "Objects text:  Store\n"
     ]
    }
   ],
   "source": [
    "agent.do_next_action()"
   ]
  },
  {
   "cell_type": "code",
   "execution_count": 14,
   "metadata": {},
   "outputs": [
    {
     "name": "stdout",
     "output_type": "stream",
     "text": [
      "Chosen next function:  move_focus_to_next_object\n"
     ]
    }
   ],
   "source": [
    "agent.do_next_action()"
   ]
  },
  {
   "cell_type": "code",
   "execution_count": 15,
   "metadata": {},
   "outputs": [
    {
     "name": "stdout",
     "output_type": "stream",
     "text": [
      "Chosen next function:  move_cursor_to_focussed_object\n",
      "Moved cursor by offset:  1281.5281762295083 , 30.0\n"
     ]
    }
   ],
   "source": [
    "agent.do_next_action()"
   ]
  },
  {
   "cell_type": "code",
   "execution_count": 16,
   "metadata": {},
   "outputs": [
    {
     "name": "stdout",
     "output_type": "stream",
     "text": [
      "Chosen next function:  is_inventory_equals_object_text\n",
      "Inventory:  Gmail\n",
      "Objects text:  Gmail\n"
     ]
    }
   ],
   "source": [
    "agent.do_next_action()"
   ]
  },
  {
   "cell_type": "code",
   "execution_count": 17,
   "metadata": {},
   "outputs": [
    {
     "name": "stdout",
     "output_type": "stream",
     "text": [
      "Chosen next function:  move_focus_to_next_object\n",
      "Not executing it\n"
     ]
    }
   ],
   "source": [
    "agent.do_next_action()"
   ]
  },
  {
   "cell_type": "code",
   "execution_count": 18,
   "metadata": {},
   "outputs": [
    {
     "name": "stdout",
     "output_type": "stream",
     "text": [
      "Chosen next function:  move_cursor_to_focussed_object\n",
      "Not executing it\n"
     ]
    }
   ],
   "source": [
    "agent.do_next_action()"
   ]
  },
  {
   "cell_type": "code",
   "execution_count": 19,
   "metadata": {},
   "outputs": [
    {
     "name": "stdout",
     "output_type": "stream",
     "text": [
      "Chosen next function:  is_inventory_equals_object_text\n",
      "Not executing it\n"
     ]
    }
   ],
   "source": [
    "agent.do_next_action()"
   ]
  },
  {
   "cell_type": "code",
   "execution_count": 20,
   "metadata": {},
   "outputs": [
    {
     "data": {
      "text/plain": [
       "{(' ', True): [('perceive_vision', 1)],\n",
       " ('perceive_vision', True): [('move_focus_to_next_object', 1)],\n",
       " ('move_focus_to_next_object', True): [('move_focus_to_next_object', -1),\n",
       "  ('move_cursor_to_focussed_object', 1)],\n",
       " ('move_cursor_to_focussed_object', True): [('move_focus_to_next_object', -1),\n",
       "  ('move_cursor_to_focussed_object', -1),\n",
       "  ('is_inventory_equals_object_text', 1)],\n",
       " ('is_inventory_equals_object_text',\n",
       "  False): [('move_focus_to_next_object', 1)],\n",
       " ('is_inventory_equals_object_text', True): [('move_focus_to_next_object', -1),\n",
       "  ('move_cursor_to_focussed_object', -1),\n",
       "  ('is_inventory_equals_object_text', -1)]}"
      ]
     },
     "execution_count": 20,
     "metadata": {},
     "output_type": "execute_result"
    }
   ],
   "source": [
    "agent.transition_function"
   ]
  },
  {
   "cell_type": "code",
   "execution_count": 21,
   "metadata": {},
   "outputs": [
    {
     "name": "stdout",
     "output_type": "stream",
     "text": [
      "Chosen next function:  move_cursor_to_search_bar\n",
      "Not executing it\n"
     ]
    }
   ],
   "source": [
    "agent.do_next_action()"
   ]
  },
  {
   "cell_type": "code",
   "execution_count": 22,
   "metadata": {},
   "outputs": [
    {
     "name": "stdout",
     "output_type": "stream",
     "text": [
      "Chosen next function:  click\n",
      "clicking\n"
     ]
    }
   ],
   "source": [
    "agent.do_next_action()"
   ]
  },
  {
   "cell_type": "code",
   "execution_count": 10,
   "metadata": {},
   "outputs": [
    {
     "name": "stdout",
     "output_type": "stream",
     "text": [
      "Moved cursor by offset:  715.783299180328 , 324.86842105263156\n"
     ]
    }
   ],
   "source": [
    "agent.move_cursor(bbox_coods_to_HTML_coods(centre))"
   ]
  },
  {
   "cell_type": "code",
   "execution_count": 11,
   "metadata": {},
   "outputs": [
    {
     "name": "stdout",
     "output_type": "stream",
     "text": [
      "clicking\n"
     ]
    }
   ],
   "source": [
    "agent.click()"
   ]
  },
  {
   "cell_type": "code",
   "execution_count": 9,
   "metadata": {},
   "outputs": [
    {
     "data": {
      "text/plain": [
       "'Sign in'"
      ]
     },
     "execution_count": 9,
     "metadata": {},
     "output_type": "execute_result"
    }
   ],
   "source": [
    "agent.get_interactables()[\"a\"][3].text"
   ]
  },
  {
   "cell_type": "code",
   "execution_count": 41,
   "metadata": {},
   "outputs": [],
   "source": [
    "agent.move_cursor_to_element(agent.get_interactables()[\"a\"][2])"
   ]
  },
  {
   "cell_type": "code",
   "execution_count": 8,
   "metadata": {},
   "outputs": [
    {
     "name": "stdout",
     "output_type": "stream",
     "text": [
      "clicking\n"
     ]
    }
   ],
   "source": [
    "agent.click()"
   ]
  },
  {
   "cell_type": "code",
   "execution_count": 13,
   "metadata": {},
   "outputs": [],
   "source": [
    "from utility import bbox_coods_to_HTML_coods"
   ]
  },
  {
   "cell_type": "code",
   "execution_count": 14,
   "metadata": {},
   "outputs": [
    {
     "name": "stdout",
     "output_type": "stream",
     "text": [
      "Moved cursor by offset:  1476.378073770492 , 646.1842105263158\n"
     ]
    }
   ],
   "source": [
    "agent.move_cursor(bbox_coods_to_HTML_coods(centre))"
   ]
  },
  {
   "cell_type": "code",
   "execution_count": 15,
   "metadata": {},
   "outputs": [
    {
     "name": "stdout",
     "output_type": "stream",
     "text": [
      "clicking\n"
     ]
    }
   ],
   "source": [
    "agent.click()"
   ]
  },
  {
   "cell_type": "code",
   "execution_count": 71,
   "metadata": {},
   "outputs": [
    {
     "ename": "MoveTargetOutOfBoundsException",
     "evalue": "Message: move target out of bounds\n  (Session info: chrome=131.0.6778.205)\nStacktrace:\n\tGetHandleVerifier [0x00007FF7B2B9FB05+28789]\n\t(No symbol) [0x00007FF7B2B086E0]\n\t(No symbol) [0x00007FF7B29A5759]\n\t(No symbol) [0x00007FF7B2A4A6E3]\n\t(No symbol) [0x00007FF7B2A1F43A]\n\t(No symbol) [0x00007FF7B2A3F654]\n\t(No symbol) [0x00007FF7B2A1F1E3]\n\t(No symbol) [0x00007FF7B29EA938]\n\t(No symbol) [0x00007FF7B29EBAA1]\n\tGetHandleVerifier [0x00007FF7B2ED933D+3410093]\n\tGetHandleVerifier [0x00007FF7B2EEE7DD+3497293]\n\tGetHandleVerifier [0x00007FF7B2EE2A73+3448803]\n\tGetHandleVerifier [0x00007FF7B2C67BBB+848171]\n\t(No symbol) [0x00007FF7B2B13C3F]\n\t(No symbol) [0x00007FF7B2B0F6E4]\n\t(No symbol) [0x00007FF7B2B0F87D]\n\t(No symbol) [0x00007FF7B2AFED49]\n\tBaseThreadInitThunk [0x00007FFFC79D259D+29]\n\tRtlUserThreadStart [0x00007FFFC88EAF38+40]\n",
     "output_type": "error",
     "traceback": [
      "\u001b[1;31m---------------------------------------------------------------------------\u001b[0m",
      "\u001b[1;31mMoveTargetOutOfBoundsException\u001b[0m            Traceback (most recent call last)",
      "Cell \u001b[1;32mIn[71], line 1\u001b[0m\n\u001b[1;32m----> 1\u001b[0m \u001b[43magent\u001b[49m\u001b[38;5;241;43m.\u001b[39;49m\u001b[43mmove_cursor\u001b[49m\u001b[43m(\u001b[49m\u001b[38;5;28;43mint\u001b[39;49m\u001b[43m(\u001b[49m\u001b[43mcentre\u001b[49m\u001b[43m[\u001b[49m\u001b[38;5;241;43m0\u001b[39;49m\u001b[43m]\u001b[49m\u001b[43m)\u001b[49m\u001b[43m,\u001b[49m\u001b[38;5;28;43mint\u001b[39;49m\u001b[43m(\u001b[49m\u001b[43mcentre\u001b[49m\u001b[43m[\u001b[49m\u001b[38;5;241;43m1\u001b[39;49m\u001b[43m]\u001b[49m\u001b[43m)\u001b[49m\u001b[43m)\u001b[49m\n",
      "File \u001b[1;32mc:\\Users\\USER\\Desktop\\WebAgent\\Agent\\agent.py:27\u001b[0m, in \u001b[0;36mAgent.move_cursor\u001b[1;34m(self, x, y)\u001b[0m\n\u001b[0;32m     26\u001b[0m \u001b[38;5;28;01mdef\u001b[39;00m \u001b[38;5;21mmove_cursor\u001b[39m(\u001b[38;5;28mself\u001b[39m,x,y):\n\u001b[1;32m---> 27\u001b[0m     \u001b[43mActionChains\u001b[49m\u001b[43m(\u001b[49m\u001b[38;5;28;43mself\u001b[39;49m\u001b[38;5;241;43m.\u001b[39;49m\u001b[43mdriver\u001b[49m\u001b[43m)\u001b[49m\u001b[38;5;241;43m.\u001b[39;49m\u001b[43mmove_by_offset\u001b[49m\u001b[43m(\u001b[49m\u001b[43mx\u001b[49m\u001b[43m,\u001b[49m\u001b[43m \u001b[49m\u001b[43my\u001b[49m\u001b[43m)\u001b[49m\u001b[38;5;241;43m.\u001b[39;49m\u001b[43mperform\u001b[49m\u001b[43m(\u001b[49m\u001b[43m)\u001b[49m\n\u001b[0;32m     28\u001b[0m     time\u001b[38;5;241m.\u001b[39msleep(\u001b[38;5;241m2\u001b[39m)\n\u001b[0;32m     29\u001b[0m     \u001b[38;5;28mprint\u001b[39m(\u001b[38;5;124m\"\u001b[39m\u001b[38;5;124mMoved cursor to: \u001b[39m\u001b[38;5;124m\"\u001b[39m,x,\u001b[38;5;124m\"\u001b[39m\u001b[38;5;124m,\u001b[39m\u001b[38;5;124m\"\u001b[39m,y)\n",
      "File \u001b[1;32md:\\CUDA\\envs\\agi\\lib\\site-packages\\selenium\\webdriver\\common\\action_chains.py:94\u001b[0m, in \u001b[0;36mActionChains.perform\u001b[1;34m(self)\u001b[0m\n\u001b[0;32m     92\u001b[0m \u001b[38;5;28;01mdef\u001b[39;00m \u001b[38;5;21mperform\u001b[39m(\u001b[38;5;28mself\u001b[39m) \u001b[38;5;241m-\u001b[39m\u001b[38;5;241m>\u001b[39m \u001b[38;5;28;01mNone\u001b[39;00m:\n\u001b[0;32m     93\u001b[0m \u001b[38;5;250m    \u001b[39m\u001b[38;5;124;03m\"\"\"Performs all stored actions.\"\"\"\u001b[39;00m\n\u001b[1;32m---> 94\u001b[0m     \u001b[38;5;28;43mself\u001b[39;49m\u001b[38;5;241;43m.\u001b[39;49m\u001b[43mw3c_actions\u001b[49m\u001b[38;5;241;43m.\u001b[39;49m\u001b[43mperform\u001b[49m\u001b[43m(\u001b[49m\u001b[43m)\u001b[49m\n",
      "File \u001b[1;32md:\\CUDA\\envs\\agi\\lib\\site-packages\\selenium\\webdriver\\common\\actions\\action_builder.py:96\u001b[0m, in \u001b[0;36mActionBuilder.perform\u001b[1;34m(self)\u001b[0m\n\u001b[0;32m     94\u001b[0m         enc[\u001b[38;5;124m\"\u001b[39m\u001b[38;5;124mactions\u001b[39m\u001b[38;5;124m\"\u001b[39m]\u001b[38;5;241m.\u001b[39mappend(encoded)\n\u001b[0;32m     95\u001b[0m         device\u001b[38;5;241m.\u001b[39mactions \u001b[38;5;241m=\u001b[39m []\n\u001b[1;32m---> 96\u001b[0m \u001b[38;5;28;43mself\u001b[39;49m\u001b[38;5;241;43m.\u001b[39;49m\u001b[43mdriver\u001b[49m\u001b[38;5;241;43m.\u001b[39;49m\u001b[43mexecute\u001b[49m\u001b[43m(\u001b[49m\u001b[43mCommand\u001b[49m\u001b[38;5;241;43m.\u001b[39;49m\u001b[43mW3C_ACTIONS\u001b[49m\u001b[43m,\u001b[49m\u001b[43m \u001b[49m\u001b[43menc\u001b[49m\u001b[43m)\u001b[49m\n",
      "File \u001b[1;32md:\\CUDA\\envs\\agi\\lib\\site-packages\\selenium\\webdriver\\remote\\webdriver.py:384\u001b[0m, in \u001b[0;36mWebDriver.execute\u001b[1;34m(self, driver_command, params)\u001b[0m\n\u001b[0;32m    382\u001b[0m response \u001b[38;5;241m=\u001b[39m \u001b[38;5;28mself\u001b[39m\u001b[38;5;241m.\u001b[39mcommand_executor\u001b[38;5;241m.\u001b[39mexecute(driver_command, params)\n\u001b[0;32m    383\u001b[0m \u001b[38;5;28;01mif\u001b[39;00m response:\n\u001b[1;32m--> 384\u001b[0m     \u001b[38;5;28;43mself\u001b[39;49m\u001b[38;5;241;43m.\u001b[39;49m\u001b[43merror_handler\u001b[49m\u001b[38;5;241;43m.\u001b[39;49m\u001b[43mcheck_response\u001b[49m\u001b[43m(\u001b[49m\u001b[43mresponse\u001b[49m\u001b[43m)\u001b[49m\n\u001b[0;32m    385\u001b[0m     response[\u001b[38;5;124m\"\u001b[39m\u001b[38;5;124mvalue\u001b[39m\u001b[38;5;124m\"\u001b[39m] \u001b[38;5;241m=\u001b[39m \u001b[38;5;28mself\u001b[39m\u001b[38;5;241m.\u001b[39m_unwrap_value(response\u001b[38;5;241m.\u001b[39mget(\u001b[38;5;124m\"\u001b[39m\u001b[38;5;124mvalue\u001b[39m\u001b[38;5;124m\"\u001b[39m, \u001b[38;5;28;01mNone\u001b[39;00m))\n\u001b[0;32m    386\u001b[0m     \u001b[38;5;28;01mreturn\u001b[39;00m response\n",
      "File \u001b[1;32md:\\CUDA\\envs\\agi\\lib\\site-packages\\selenium\\webdriver\\remote\\errorhandler.py:232\u001b[0m, in \u001b[0;36mErrorHandler.check_response\u001b[1;34m(self, response)\u001b[0m\n\u001b[0;32m    230\u001b[0m         alert_text \u001b[38;5;241m=\u001b[39m value[\u001b[38;5;124m\"\u001b[39m\u001b[38;5;124malert\u001b[39m\u001b[38;5;124m\"\u001b[39m]\u001b[38;5;241m.\u001b[39mget(\u001b[38;5;124m\"\u001b[39m\u001b[38;5;124mtext\u001b[39m\u001b[38;5;124m\"\u001b[39m)\n\u001b[0;32m    231\u001b[0m     \u001b[38;5;28;01mraise\u001b[39;00m exception_class(message, screen, stacktrace, alert_text)  \u001b[38;5;66;03m# type: ignore[call-arg]  # mypy is not smart enough here\u001b[39;00m\n\u001b[1;32m--> 232\u001b[0m \u001b[38;5;28;01mraise\u001b[39;00m exception_class(message, screen, stacktrace)\n",
      "\u001b[1;31mMoveTargetOutOfBoundsException\u001b[0m: Message: move target out of bounds\n  (Session info: chrome=131.0.6778.205)\nStacktrace:\n\tGetHandleVerifier [0x00007FF7B2B9FB05+28789]\n\t(No symbol) [0x00007FF7B2B086E0]\n\t(No symbol) [0x00007FF7B29A5759]\n\t(No symbol) [0x00007FF7B2A4A6E3]\n\t(No symbol) [0x00007FF7B2A1F43A]\n\t(No symbol) [0x00007FF7B2A3F654]\n\t(No symbol) [0x00007FF7B2A1F1E3]\n\t(No symbol) [0x00007FF7B29EA938]\n\t(No symbol) [0x00007FF7B29EBAA1]\n\tGetHandleVerifier [0x00007FF7B2ED933D+3410093]\n\tGetHandleVerifier [0x00007FF7B2EEE7DD+3497293]\n\tGetHandleVerifier [0x00007FF7B2EE2A73+3448803]\n\tGetHandleVerifier [0x00007FF7B2C67BBB+848171]\n\t(No symbol) [0x00007FF7B2B13C3F]\n\t(No symbol) [0x00007FF7B2B0F6E4]\n\t(No symbol) [0x00007FF7B2B0F87D]\n\t(No symbol) [0x00007FF7B2AFED49]\n\tBaseThreadInitThunk [0x00007FFFC79D259D+29]\n\tRtlUserThreadStart [0x00007FFFC88EAF38+40]\n"
     ]
    }
   ],
   "source": [
    "agent.move_cursor(int(centre[0]),int(centre[1]))"
   ]
  },
  {
   "cell_type": "code",
   "execution_count": 70,
   "metadata": {},
   "outputs": [
    {
     "data": {
      "text/plain": [
       "(1281.5, 30.0)"
      ]
     },
     "execution_count": 70,
     "metadata": {},
     "output_type": "execute_result"
    }
   ],
   "source": [
    "centre"
   ]
  },
  {
   "cell_type": "code",
   "execution_count": 19,
   "metadata": {},
   "outputs": [
    {
     "name": "stdout",
     "output_type": "stream",
     "text": [
      "Moved cursor to:  976.5 , 38.0\n"
     ]
    }
   ],
   "source": [
    "agent.move_cursor(centre[0],centre[1])"
   ]
  },
  {
   "cell_type": "code",
   "execution_count": 8,
   "metadata": {},
   "outputs": [],
   "source": [
    "for object in objects[\"bbox\"]:\n",
    "    top,bottom=extract_bbox_coods(object)\n",
    "    cv2.rectangle(screenie,top,bottom,(255,0,0))"
   ]
  },
  {
   "cell_type": "code",
   "execution_count": 9,
   "metadata": {},
   "outputs": [
    {
     "data": {
      "image/png": "[encoded data removed]",
      "text/plain": [
       "<Figure size 640x480 with 1 Axes>"
      ]
     },
     "metadata": {},
     "output_type": "display_data"
    }
   ],
   "source": [
    "matplotlibplot(screenie)"
   ]
  },
  {
   "cell_type": "code",
   "execution_count": 70,
   "metadata": {},
   "outputs": [],
   "source": [
    "import numpy as np\n",
    "def image_distance(image1,image2):\n",
    "    sum=0\n",
    "    for i in range(image1.shape[0]):\n",
    "        for j in range(image1.shape[1]):\n",
    "            for k in range(image1.shape[2]):\n",
    "                sum=sum+((image1[i,j,k]-image2[i,j,k])**2)\n",
    "    return sum\n",
    "\n",
    "\n",
    "\n",
    "def perceive_html():\n",
    "    buttons=[]\n",
    "    buttons=driver.find_elements(By.TAG_NAME, \"a\")\n",
    "    \n",
    "    time.sleep(2)\n",
    "    return buttons\n",
    "\n",
    "\n",
    "def find_image_in_image(image1,image2):\n",
    "    \n",
    "    similarity=-1\n",
    "    max_similarity=0\n",
    "    similarity_matrix=np.zeros([image1.shape[0]-image2.shape[0],image1.shape[1]-image2.shape[1]])\n",
    "    max_similarity_location=(-1,-1)\n",
    "    \n",
    "    image1_norm=np.linalg.norm(image1)\n",
    "    image2_norm=np.linalg.norm(image2)\n",
    "\n",
    "    for i in range(image1.shape[0]-image2.shape[0]):\n",
    "        for j in range(image1.shape[1]-image2.shape[1]):\n",
    "            print(i,j)\n",
    "            similarity=np.sum(np.multiply(image1[i:i+image2.shape[0],j:j+image2.shape[1],:],image2))\n",
    "            if max_similarity<similarity:\n",
    "                max_similarity=similarity\n",
    "                max_similarity_location=(i,j)\n",
    "            similarity_matrix[i,j]=similarity/(image1_norm*image2_norm)\n",
    "    \n",
    "    \n",
    "            \n",
    "\n",
    "    return similarity_matrix,max_similarity,max_similarity_location\n",
    "            \n",
    "    "
   ]
  },
  {
   "cell_type": "code",
   "execution_count": 71,
   "metadata": {},
   "outputs": [],
   "source": [
    "def image_resize(image, width = None, height = None, inter = cv2.INTER_AREA):\n",
    "    # initialize the dimensions of the image to be resized and\n",
    "    # grab the image size\n",
    "    dim = None\n",
    "    (h, w) = image.shape[:2]\n",
    "\n",
    "    # if both the width and height are None, then return the\n",
    "    # original image\n",
    "    if width is None and height is None:\n",
    "        return image\n",
    "\n",
    "    # check to see if the width is None\n",
    "    if width is None:\n",
    "        # calculate the ratio of the height and construct the\n",
    "        # dimensions\n",
    "        r = height / float(h)\n",
    "        dim = (int(w * r), height)\n",
    "\n",
    "    # otherwise, the height is None\n",
    "    else:\n",
    "        # calculate the ratio of the width and construct the\n",
    "        # dimensions\n",
    "        r = width / float(w)\n",
    "        dim = (width, int(h * r))\n",
    "\n",
    "    # resize the image\n",
    "    resized = cv2.resize(image, dim, interpolation = inter)\n",
    "\n",
    "    # return the resized image\n",
    "    return resized"
   ]
  },
  {
   "cell_type": "code",
   "execution_count": 84,
   "metadata": {},
   "outputs": [],
   "source": [
    "image1=cv2.imread('screenie.png')\n",
    "image2=cv2.imread('searchbar.png')\n",
    "\n",
    "image2=image_resize(image2,int(image2.shape[1]*(1000/image1.shape[1])))\n",
    "image1=image_resize(image1,1000)"
   ]
  },
  {
   "cell_type": "code",
   "execution_count": 85,
   "metadata": {},
   "outputs": [
    {
     "data": {
      "image/png": "[encoded data removed]",
      "text/plain": [
       "<Figure size 640x480 with 1 Axes>"
      ]
     },
     "metadata": {},
     "output_type": "display_data"
    }
   ],
   "source": [
    "matplotlibplot(image1)"
   ]
  },
  {
   "cell_type": "code",
   "execution_count": null,
   "metadata": {},
   "outputs": [
    {
     "data": {
      "image/png": "[encoded data removed]",
      "text/plain": [
       "<Figure size 640x480 with 1 Axes>"
      ]
     },
     "metadata": {},
     "output_type": "display_data"
    }
   ],
   "source": [
    "matplotlibplot(image2)"
   ]
  }
 ],
 "metadata": {
  "kernelspec": {
   "display_name": "agi",
   "language": "python",
   "name": "python3"
  },
  "language_info": {
   "codemirror_mode": {
    "name": "ipython",
    "version": 3
   },
   "file_extension": ".py",
   "mimetype": "text/x-python",
   "name": "python",
   "nbconvert_exporter": "python",
   "pygments_lexer": "ipython3",
   "version": "3.9.20"
  }
 },
 "nbformat": 4,
 "nbformat_minor": 2
}
